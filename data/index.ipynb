{
  "cells": [
    {
      "cell_type": "raw",
      "metadata": {},
      "source": [
        "---\n",
        "format: html\n",
        "---"
      ],
      "id": "146b027d"
    },
    {
      "cell_type": "markdown",
      "metadata": {},
      "source": [
        "# This website contains the data used in the book *R for the Rest of Us: A Statistics-Free Introduction*. \n",
        "\n",
        "\n",
        "```{html}\n",
        "<style>\n",
        "img {\n",
        "box-shadow: 0 4px 6px -1px rgb(0 0 0 / 0.1), 0 2px 4px -2px rgb(0 0 0 / 0.1);\n",
        "  border-radius: 0.25rem;\n",
        "}\n",
        "</style>\n",
        "```\n",
        "\n",
        "\n",
        "[![](cover.jpg){width=400px}](https://book.rfortherestofus.com/)\n",
        "\n",
        "### Chapter 1: An R Programming Crash Course\n",
        "\n",
        "Population by state: <https://data.rfortherestofus.com/population-by-state.csv>\n",
        "\n",
        "### Chapter 2: Principles of Data Visualization\n",
        "\n",
        "10 rows of the gapminder dataset: <https://data.rfortherestofus.com/gapminder_10_rows.csv>\n",
        "\n",
        "Data on drought conditions by region: <https://data.rfortherestofus.com/dm_perc_cat_hubs.json>\n",
        "\n",
        "### Chapter 4: Maps and Geospatial Data\n",
        "\n",
        "Daily COVID rates in the US: <https://data.rfortherestofus.com/covid-us-states.csv>\n",
        "\n",
        "Population by state: <https://data.rfortherestofus.com/population-by-state.csv>\n",
        "\n",
        "### Chapter 6: R Markdown Reports\n",
        "\n",
        "Palmer Penguins data for 2007: <https://data.rfortherestofus.com/penguins-2007.csv>\n",
        "\n",
        "Palmer Penguins data for 2008: <https://data.rfortherestofus.com/penguins-2008.csv>\n",
        "\n",
        "### Chapter 7: Parameterized Reporting\n",
        "\n",
        "COVID deaths and testing in the US: <https://data.rfortherestofus.com/united_states_covid19_cases_deaths_and_testing_by_state.csv>\n",
        "\n",
        "### Chapter 8: Slideshow Presentations\n",
        "\n",
        "Image of penguins: <https://data.rfortherestofus.com/penguins.jpg>\n",
        "\n",
        "### Quarto\n",
        "\n",
        "COVID deaths and testing in the US: <https://data.rfortherestofus.com/united_states_covid19_cases_deaths_and_testing_by_state.csv>\n",
        "\n",
        "### Chapter 11: Automatically Accessing Online Data\n",
        "\n",
        "Fake data on video games survey: <https://data.rfortherestofus.com/google-sheet>\n",
        "\n",
        "### Chapter 12: Creating Functions and Packages\n",
        "\n",
        "Palmer Penguins data for 2007: <https://data.rfortherestofus.com/penguins-2007.csv>\n",
        "\n",
        "Rolling average of COVID rates in the US: <https://data.rfortherestofus.com/us-states-covid-rolling-average.csv>"
      ],
      "id": "37038c39"
    }
  ],
  "metadata": {
    "kernelspec": {
      "display_name": "Python 3",
      "language": "python",
      "name": "python3"
    }
  },
  "nbformat": 4,
  "nbformat_minor": 5
}